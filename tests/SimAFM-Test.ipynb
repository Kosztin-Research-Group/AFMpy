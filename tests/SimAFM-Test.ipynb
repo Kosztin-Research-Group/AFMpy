{
 "cells": [
  {
   "cell_type": "markdown",
   "id": "0",
   "metadata": {},
   "source": [
    "# SimAFM Tests"
   ]
  },
  {
   "cell_type": "markdown",
   "id": "1",
   "metadata": {},
   "source": [
    "## Imports"
   ]
  },
  {
   "cell_type": "code",
   "execution_count": null,
   "id": "2",
   "metadata": {},
   "outputs": [],
   "source": [
    "import os\n",
    "import numpy as np\n",
    "\n",
    "import AFMpy as AFM\n",
    "\n",
    "import MDAnalysis as MDA\n",
    "from MDAnalysis import transformations"
   ]
  },
  {
   "cell_type": "markdown",
   "id": "3",
   "metadata": {},
   "source": [
    "## Loading Trajectory"
   ]
  },
  {
   "cell_type": "code",
   "execution_count": null,
   "id": "4",
   "metadata": {},
   "outputs": [],
   "source": [
    "### Trajectory Paths\n",
    "PSF_PATH = 'traj/POPE_3DIN.psf'\n",
    "DCD_PATH = 'traj/POPE_3DIN_Aligned.dcd'\n",
    "\n",
    "roty = transformations.rotateby(180, direction = [0,1,0], point = [0,0,0])\n",
    "rotz = transformations.rotateby(-90, direction = [0,0,1], point = [0,0,0])\n",
    "workflow = [roty, rotz]\n",
    "\n",
    "cytoplasmic_universe = MDA.Universe(PSF_PATH, DCD_PATH, transformations = workflow)"
   ]
  },
  {
   "cell_type": "markdown",
   "id": "5",
   "metadata": {},
   "source": [
    "## Adjustable Parameters"
   ]
  },
  {
   "cell_type": "code",
   "execution_count": null,
   "id": "6",
   "metadata": {},
   "outputs": [],
   "source": [
    "# Tip Radius\n",
    "tip_radius = 20\n",
    "\n",
    "# Tip Half Angle\n",
    "tip_theta = 18\n",
    "\n",
    "# Scanning boundaries and shape\n",
    "boundaries = ((-64, 64), (-64, 64))\n",
    "scan_range = boundaries[0][1] - boundaries[0][0]\n",
    "scan_shape = (64,64)\n",
    "\n",
    "# VDW Dictionary. All Atom or CG\n",
    "vdw_dict =  AFM.SimAFM.AA_VDW_Dict()\n",
    "\n",
    "# Bookkeeping parameters\n",
    "stack_code = f'AC-{int(tip_radius)}-{int(scan_range / scan_shape[0])}'\n",
    "metadata = {\n",
    "    'aligned': True,\n",
    "    'alignment_method': 'Transmembrane Backbone RMSD Minimization',\n",
    "    'Tip Radius': tip_radius,\n",
    "    'Tip Theta': tip_theta,\n",
    "    'Stack Code': stack_code,\n",
    "    'side': 'Cytoplasmic',\n",
    "    'normalized': False,\n",
    "    'PDB Code': '3DIN',\n",
    "    'Membrane Composition': 'POPE',\n",
    "    'Trajectory File': 'POPE_3DIN_Aligned.dcd',\n",
    "    'PSF File': 'POPE_3DIN.psf',\n",
    "}\n",
    "\n",
    "# Location to save stack\n",
    "output_directory = 'stacks'\n",
    "filename = f'{stack_code}.xz'"
   ]
  },
  {
   "cell_type": "code",
   "execution_count": null,
   "id": "7",
   "metadata": {},
   "outputs": [],
   "source": [
    "# Create Grid\n",
    "grid = AFM.SimAFM.make_grid(boundaries, scan_shape)\n",
    "\n",
    "# Create Simulated Stack\n",
    "im_stack = AFM.SimAFM.simulate_AFM2D_stack_MP(cytoplasmic_universe,\n",
    "                                                'protein',\n",
    "                                                'name P and prop z > 0',\n",
    "                                                grid,\n",
    "                                                tip_radius,\n",
    "                                                tip_theta,\n",
    "                                                vdw_dict,\n",
    "                                                n_procs = 2)\n",
    "\n",
    "# Make the stack object\n",
    "output_stack = AFM.SimAFM.SimAFM_Stack(im_stack, grid, **metadata)\n",
    "\n",
    "# Make the output string\n",
    "out_str = os.path.join(output_directory, filename)\n",
    "\n",
    "# Save the stack\n",
    "output_stack.save_lzma(out_str)"
   ]
  }
 ],
 "metadata": {
  "hide_input": false,
  "kernelspec": {
   "display_name": "Python 3 (ipykernel)",
   "language": "python",
   "name": "python3"
  },
  "language_info": {
   "codemirror_mode": {
    "name": "ipython",
    "version": 3
   },
   "file_extension": ".py",
   "mimetype": "text/x-python",
   "name": "python",
   "nbconvert_exporter": "python",
   "pygments_lexer": "ipython3",
   "version": "3.9.17"
  }
 },
 "nbformat": 4,
 "nbformat_minor": 5
}
