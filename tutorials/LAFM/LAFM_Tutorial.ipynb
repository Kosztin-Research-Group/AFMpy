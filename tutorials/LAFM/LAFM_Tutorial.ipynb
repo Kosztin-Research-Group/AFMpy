{
 "cells": [
  {
   "cell_type": "markdown",
   "metadata": {},
   "source": [
    "# Tutorial for AFMpy.LAFM"
   ]
  },
  {
   "cell_type": "markdown",
   "metadata": {},
   "source": [
    "## Imports"
   ]
  },
  {
   "cell_type": "code",
   "execution_count": null,
   "metadata": {},
   "outputs": [],
   "source": [
    "# Standard library imports\n",
    "import json\n",
    "import logging\n",
    "\n",
    "# Third party imports\n",
    "import matplotlib.pyplot as plt\n",
    "\n",
    "# AFMpy imports\n",
    "from AFMpy import Stack, Plotting"
   ]
  },
  {
   "cell_type": "markdown",
   "metadata": {},
   "source": [
    "## Logging Configuration"
   ]
  },
  {
   "cell_type": "markdown",
   "metadata": {},
   "source": [
    "Each module in AFMpy contains logging to for debugging purposes via the default python logging library. Logging for the modules should always be configured at the application level. Included in these tutorials are example logging configuration files that can be loaded with the following functions. You may adjust these logging configuration files as you see fit."
   ]
  },
  {
   "cell_type": "code",
   "execution_count": null,
   "metadata": {},
   "outputs": [],
   "source": [
    "# Load the preconfigured logging settings\n",
    "with open('logs/LAFM_Tutorial_LoggingConfig.json', 'r') as f:\n",
    "    LOGGING_CONFIG = json.load(f)\n",
    "\n",
    "# Set up the logging configuration\n",
    "logging.config.dictConfig(LOGGING_CONFIG)"
   ]
  },
  {
   "cell_type": "markdown",
   "metadata": {},
   "source": [
    "## Matplotlib Configuration"
   ]
  },
  {
   "cell_type": "markdown",
   "metadata": {},
   "source": [
    "Included within the ```Plotting``` module are functions for creating the high quality figures. A default configuration that matches the figures in the publication is activated by running the following function."
   ]
  },
  {
   "cell_type": "code",
   "execution_count": null,
   "metadata": {},
   "outputs": [],
   "source": [
    "# Configure the rcParams for the plots\n",
    "Plotting.configure_formatting()"
   ]
  },
  {
   "cell_type": "markdown",
   "metadata": {},
   "source": [
    "## Load the Stacks"
   ]
  },
  {
   "cell_type": "markdown",
   "metadata": {},
   "source": [
    "Here we demonstrate how to load a compressed pickle file containing stack information. Recall from the ```SimAFM_Tutorial``` that stack pickles should be distributed alongside a cryptographic signature (```.sig```) and public key (```.pub```). To load the file call ```Stack.load_compressed_pickle``` specifying the ```pickle_filepath``` to the stack and the ```public_key_filepath``` (both ```str``` or ```Path```). This method will\n",
    "\n",
    "1. Compute the cryptographic hash of the ```.xz``` file\n",
    "2. Verify the hash against the corresponding ```.sig``` file using the public key.\n",
    "3. Proceed to load an instance of the ```Stack``` object **only if** the signature is valid.\n",
    "\n",
    "If the signature verification fails an exception will be raised. Verification can be bypassed by setting the ```verify_pickle``` (```bool```) to ```False```. However, this practice is **not** recommended. Disabling signature checks leaves you vulnerable to malicious files—use it only at your own risk."
   ]
  },
  {
   "cell_type": "code",
   "execution_count": null,
   "metadata": {},
   "outputs": [],
   "source": [
    "# Set the filepath for the public key to verify the integrity of the stacks.\n",
    "PUBLIC_KEY_FILEPATH = '../common/keys/Tutorial_Public.pub'\n",
    "\n",
    "# Load the cytoplasmic and periplasmic stacks\n",
    "cytoplasmic_stack = Stack.Stack.load_compressed_pickle(pickle_filepath = '../common/stacks/Example_AC-20-4.xz',\n",
    "                                                       public_key_filepath = PUBLIC_KEY_FILEPATH)\n",
    "\n",
    "periplasmic_stack = Stack.Stack.load_compressed_pickle(pickle_filepath = '../common/stacks/Example_AP-20-4.xz',\n",
    "                                                       public_key_filepath = PUBLIC_KEY_FILEPATH)"
   ]
  },
  {
   "cell_type": "markdown",
   "metadata": {},
   "source": [
    "## Processing the Stacks"
   ]
  },
  {
   "cell_type": "markdown",
   "metadata": {},
   "source": [
    "Now that the Stacks are loaded we can process them. First let's calculate the mean AFM image.\n",
    "\n",
    "We call the ```calc_mean_image``` method to calculate the mean AFM image. This function calculates the per-pixel average of the image stack with ```numpy```, sets it to the ```mean_image``` attribute, and returns it. This method implements a form of caching the image. If the ```mean_image``` attribute is already set (i.e. ```mean_image is not None```), the image is not recalculated unless ```force_recalc``` (```bool```) is ```True```."
   ]
  },
  {
   "cell_type": "code",
   "execution_count": null,
   "metadata": {},
   "outputs": [],
   "source": [
    "# Calculating the Mean image for each stack.\n",
    "cytoplasmic_mean_image = cytoplasmic_stack.calc_mean_image()\n",
    "\n",
    "periplasmic_mean_image = periplasmic_stack.calc_mean_image()"
   ]
  },
  {
   "cell_type": "markdown",
   "metadata": {},
   "source": [
    "Next is calculating the LAFM image.\n",
    "\n",
    "We call the ```calc_LAFM_image``` method to calculate the LAFM image which requires two parameters. ```target_resolution``` (```tuple[int,int]```) defines the output resolution that the LAFM image should be upscaled to; ```target_resolution``` must be greater than the resolution of the input stack. ```sigma``` (```float```) is the width of the gaussian broadening applied to each detected local maxima. After LAFM calculation, the ```LAFM_image``` attribute is set and returned. As before, this function implements caching such that if the ```LAFM_image``` attribute is already set, it is not recalculated unless ```force_recalc``` (```bool```) is ```True```."
   ]
  },
  {
   "cell_type": "code",
   "execution_count": null,
   "metadata": {},
   "outputs": [],
   "source": [
    "# Set the target resolution and gaussian width for LAFM processing.\n",
    "target_resolution = (96,96)\n",
    "sigma = 2.25\n",
    "\n",
    "# Computer the LAFM images.\n",
    "cytoplasmic_lafm_image = cytoplasmic_stack.calc_LAFM_image(target_resolution = target_resolution, sigma = sigma)\n",
    "periplasmic_lafm_image = periplasmic_stack.calc_LAFM_image(target_resolution = target_resolution, sigma = sigma)"
   ]
  },
  {
   "cell_type": "markdown",
   "metadata": {},
   "source": [
    "## Plot the Images"
   ]
  },
  {
   "cell_type": "markdown",
   "metadata": {},
   "source": [
    "Finally, we display the generated mean and LAFM images for both the cytoplasmic and periplasmic stack."
   ]
  },
  {
   "cell_type": "code",
   "execution_count": null,
   "metadata": {},
   "outputs": [],
   "source": [
    "fig, ax = plt.subplots(2,2, figsize = (8,8))\n",
    "for axis in ax.ravel():\n",
    "    axis.set_xticks([])\n",
    "    axis.set_yticks([])\n",
    "ax[0,0].imshow(cytoplasmic_mean_image, cmap=Plotting.LAFMcmap)\n",
    "ax[0,0].set_title('Mean Image', fontsize = 16)\n",
    "ax[0,0].set_ylabel('Cytoplasmic', fontsize = 16)\n",
    "ax[0,1].imshow(cytoplasmic_lafm_image, cmap=Plotting.LAFMcmap)\n",
    "ax[0,1].set_title('LAFM Image')\n",
    "ax[1,0].imshow(periplasmic_mean_image, cmap=Plotting.LAFMcmap)\n",
    "ax[1,0].set_ylabel('Periplasmic', fontsize = 16)\n",
    "ax[1,1].imshow(periplasmic_lafm_image, cmap=Plotting.LAFMcmap)\n",
    "\n",
    "plt.show()"
   ]
  }
 ],
 "metadata": {
  "kernelspec": {
   "display_name": "AFMpy-GPU",
   "language": "python",
   "name": "python3"
  },
  "language_info": {
   "codemirror_mode": {
    "name": "ipython",
    "version": 3
   },
   "file_extension": ".py",
   "mimetype": "text/x-python",
   "name": "python",
   "nbconvert_exporter": "python",
   "pygments_lexer": "ipython3",
   "version": "3.12.2"
  }
 },
 "nbformat": 4,
 "nbformat_minor": 2
}
