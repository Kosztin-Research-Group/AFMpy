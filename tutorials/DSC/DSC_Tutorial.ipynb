{
 "cells": [
  {
   "cell_type": "markdown",
   "metadata": {},
   "source": [
    "# Tutorial for AFMpy.REC.DSC"
   ]
  },
  {
   "cell_type": "markdown",
   "metadata": {},
   "source": [
    "## Imports"
   ]
  },
  {
   "cell_type": "code",
   "execution_count": null,
   "metadata": {},
   "outputs": [],
   "source": [
    "# Standard library imports\n",
    "import json\n",
    "import logging\n",
    "\n",
    "# Third party imports\n",
    "import matplotlib.pyplot as plt\n",
    "\n",
    "# AFMpy imports\n",
    "from AFMpy import Stack, DL, Plotting, REC"
   ]
  },
  {
   "cell_type": "markdown",
   "metadata": {},
   "source": [
    "## Configure Logging"
   ]
  },
  {
   "cell_type": "code",
   "execution_count": null,
   "metadata": {},
   "outputs": [],
   "source": [
    "# Load the preconfigured logging settings\n",
    "with open('logs/DSC_Tutorial_LoggingConfig.json', 'r') as f:\n",
    "    LOGGING_CONFIG = json.load(f)\n",
    "\n",
    "# Set up the logging configuration\n",
    "logging.config.dictConfig(LOGGING_CONFIG)"
   ]
  },
  {
   "cell_type": "markdown",
   "metadata": {},
   "source": [
    "## Matplotlib Config"
   ]
  },
  {
   "cell_type": "code",
   "execution_count": null,
   "metadata": {},
   "outputs": [],
   "source": [
    "Plotting.configure_formatting()"
   ]
  },
  {
   "cell_type": "markdown",
   "metadata": {},
   "source": [
    "## Load the Stacks"
   ]
  },
  {
   "cell_type": "code",
   "execution_count": null,
   "metadata": {},
   "outputs": [],
   "source": [
    "# Set the filepath for the public key to verify the integrity of the stacks.\n",
    "PUBLIC_KEY_FILEPATH = '../common/keys/Tutorial_Public.pub'\n",
    "\n",
    "# Load the cytoplasmic and periplasmic stacks\n",
    "cytoplasmic_stack = Stack.Stack.load_compressed_pickle(pickle_filepath = '../common/stacks/Example_AC-20-4.xz',\n",
    "                                                       public_key_filepath = PUBLIC_KEY_FILEPATH)\n",
    "\n",
    "periplasmic_stack = Stack.Stack.load_compressed_pickle(pickle_filepath = '../common/stacks/Example_AP-20-4.xz',\n",
    "                                                       public_key_filepath = PUBLIC_KEY_FILEPATH)"
   ]
  },
  {
   "cell_type": "code",
   "execution_count": null,
   "metadata": {},
   "outputs": [],
   "source": [
    "plt.imshow(cytoplasmic_stack.stack[0], cmap = Plotting.LAFMcmap)"
   ]
  },
  {
   "cell_type": "markdown",
   "metadata": {},
   "source": [
    "## Prepare the Convolutional Autoencoders"
   ]
  },
  {
   "cell_type": "code",
   "execution_count": null,
   "metadata": {},
   "outputs": [],
   "source": [
    "# Determine the input shape for the CAE. It should be (width,height,channels). In our case (64,64,1)\n",
    "cyto_input_shape = (*cytoplasmic_stack.stack.shape[1:], 1)\n",
    "peri_input_shape = (*periplasmic_stack.stack.shape[1:], 1)\n",
    "\n",
    "# Create the Convolutional Autoencoder models to train with our data.\n",
    "cytoplasmic_CAE = DL.DefaultCAE(input_shape = cyto_input_shape)\n",
    "periplasmic_CAE = DL.DefaultCAE(input_shape = peri_input_shape)"
   ]
  },
  {
   "cell_type": "markdown",
   "metadata": {},
   "source": [
    "## Apply Deep Spectral Clustering"
   ]
  },
  {
   "cell_type": "markdown",
   "metadata": {},
   "source": [
    "### Cytoplasmic"
   ]
  },
  {
   "cell_type": "markdown",
   "metadata": {},
   "source": [
    "#### Train the model and apply spectral clustering"
   ]
  },
  {
   "cell_type": "code",
   "execution_count": null,
   "metadata": {},
   "outputs": [],
   "source": [
    "# Use DSC to determine the cluster labels for the cytoplasmic stack  with n=4 clusters\n",
    "cyto_clusters = REC.DSC(cytoplasmic_stack, cytoplasmic_CAE, n_clusters = 4)"
   ]
  },
  {
   "cell_type": "markdown",
   "metadata": {},
   "source": [
    "#### Generate the LAFM Images for each cytoplamic cluster"
   ]
  },
  {
   "cell_type": "code",
   "execution_count": null,
   "metadata": {},
   "outputs": [],
   "source": [
    "# Generate the mean and LAFM images for each cluster.\n",
    "for cluster in cyto_clusters:\n",
    "    cluster.calc_mean_image()\n",
    "    cluster.calc_LAFM_image(target_resolution = (96,96), sigma = 2.25)"
   ]
  },
  {
   "cell_type": "markdown",
   "metadata": {},
   "source": [
    "#### Display the cytoplasmic clustered LAFM images"
   ]
  },
  {
   "cell_type": "code",
   "execution_count": null,
   "metadata": {},
   "outputs": [],
   "source": [
    "fig, ax = plt.subplots(4,2, figsize = (6,12))\n",
    "for axis in ax.ravel():\n",
    "    axis.set_xticks([])\n",
    "    axis.set_yticks([])\n",
    "ax[0,0].imshow(cyto_clusters[0].mean_image, cmap = Plotting.LAFMcmap)\n",
    "ax[0,1].imshow(cyto_clusters[0].LAFM_image, cmap = Plotting.LAFMcmap)\n",
    "ax[1,0].imshow(cyto_clusters[1].mean_image, cmap = Plotting.LAFMcmap)\n",
    "ax[1,1].imshow(cyto_clusters[1].LAFM_image, cmap = Plotting.LAFMcmap)\n",
    "ax[2,0].imshow(cyto_clusters[2].mean_image, cmap = Plotting.LAFMcmap)\n",
    "ax[2,1].imshow(cyto_clusters[2].LAFM_image, cmap = Plotting.LAFMcmap)\n",
    "ax[3,0].imshow(cyto_clusters[3].mean_image, cmap = Plotting.LAFMcmap)\n",
    "ax[3,1].imshow(cyto_clusters[3].LAFM_image, cmap = Plotting.LAFMcmap)"
   ]
  },
  {
   "cell_type": "markdown",
   "metadata": {},
   "source": [
    "### Periplasmic"
   ]
  },
  {
   "cell_type": "markdown",
   "metadata": {},
   "source": [
    "#### Train the model and apply spectral clustering"
   ]
  },
  {
   "cell_type": "code",
   "execution_count": null,
   "metadata": {},
   "outputs": [],
   "source": [
    "# Use DSC to determine the cluster labels for the periplasmic stack  with n=2 clusters\n",
    "peri_clusters = REC.DSC(periplasmic_stack, periplasmic_CAE, n_clusters = 2)"
   ]
  },
  {
   "cell_type": "markdown",
   "metadata": {},
   "source": [
    "#### Generate the LAFM Images for each periplamic cluster"
   ]
  },
  {
   "cell_type": "code",
   "execution_count": null,
   "metadata": {},
   "outputs": [],
   "source": [
    "# Generate the mean and LAFM images for each cluster.\n",
    "for cluster in peri_clusters:\n",
    "    cluster.calc_mean_image()\n",
    "    cluster.calc_LAFM_image(target_resolution = (96,96), sigma = 2.25)"
   ]
  },
  {
   "cell_type": "markdown",
   "metadata": {},
   "source": [
    "#### Display the periplasmic clustered LAFM images"
   ]
  },
  {
   "cell_type": "code",
   "execution_count": null,
   "metadata": {},
   "outputs": [],
   "source": [
    "fig, ax = plt.subplots(2,2, figsize = (6,6))\n",
    "for axis in ax.ravel():\n",
    "    axis.set_xticks([])\n",
    "    axis.set_yticks([])\n",
    "ax[0,0].imshow(peri_clusters[0].mean_image, cmap = Plotting.LAFMcmap)\n",
    "ax[0,1].imshow(peri_clusters[0].LAFM_image, cmap = Plotting.LAFMcmap)\n",
    "ax[1,0].imshow(peri_clusters[1].mean_image, cmap = Plotting.LAFMcmap)\n",
    "ax[1,1].imshow(peri_clusters[1].LAFM_image, cmap = Plotting.LAFMcmap)"
   ]
  },
  {
   "cell_type": "code",
   "execution_count": null,
   "metadata": {},
   "outputs": [],
   "source": []
  },
  {
   "cell_type": "code",
   "execution_count": null,
   "metadata": {},
   "outputs": [],
   "source": []
  }
 ],
 "metadata": {
  "hide_input": false,
  "kernelspec": {
   "display_name": "AFMpy-GPU",
   "language": "python",
   "name": "python3"
  },
  "language_info": {
   "codemirror_mode": {
    "name": "ipython",
    "version": 3
   },
   "file_extension": ".py",
   "mimetype": "text/x-python",
   "name": "python",
   "nbconvert_exporter": "python",
   "pygments_lexer": "ipython3",
   "version": "3.12.2"
  }
 },
 "nbformat": 4,
 "nbformat_minor": 2
}
