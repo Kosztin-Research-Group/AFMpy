{
 "cells": [
  {
   "cell_type": "markdown",
   "metadata": {},
   "source": [
    "# Tutorial for AFMpy.REC.HierarchicalDSC"
   ]
  },
  {
   "cell_type": "markdown",
   "metadata": {},
   "source": [
    "## Imports"
   ]
  },
  {
   "cell_type": "code",
   "execution_count": null,
   "metadata": {},
   "outputs": [],
   "source": [
    "# Standard library imports\n",
    "import json\n",
    "import logging\n",
    "\n",
    "# Third party imports\n",
    "import matplotlib.pyplot as plt\n",
    "\n",
    "# AFMpy imports\n",
    "from AFMpy import Stack, DL, Plotting, REC"
   ]
  },
  {
   "cell_type": "markdown",
   "metadata": {},
   "source": [
    "## Configure Logging"
   ]
  },
  {
   "cell_type": "code",
   "execution_count": null,
   "metadata": {},
   "outputs": [],
   "source": [
    "# Load the preconfigured logging settings\n",
    "with open('logs/HierarchicalDSC_Tutorial_LoggingConfig.json', 'r') as f:\n",
    "    LOGGING_CONFIG = json.load(f)\n",
    "\n",
    "# Set up the logging configuration\n",
    "logging.config.dictConfig(LOGGING_CONFIG)"
   ]
  },
  {
   "cell_type": "markdown",
   "metadata": {},
   "source": [
    "## Matplotlib Config"
   ]
  },
  {
   "cell_type": "code",
   "execution_count": null,
   "metadata": {},
   "outputs": [],
   "source": [
    "Plotting.configure_formatting()"
   ]
  },
  {
   "cell_type": "markdown",
   "metadata": {},
   "source": [
    "## Load the Stacks"
   ]
  },
  {
   "cell_type": "code",
   "execution_count": null,
   "metadata": {},
   "outputs": [],
   "source": [
    "# Set the filepath for the public key to verify the integrity of the stacks.\n",
    "PUBLIC_KEY_FILEPATH = '../common/keys/Tutorial_Public.pub'\n",
    "\n",
    "# Load the cytoplasmic and periplasmic stacks\n",
    "cytoplasmic_stack = Stack.Stack.load_compressed_pickle(pickle_filepath = '../common/stacks/Example_AC-20-4.xz',\n",
    "                                                       public_key_filepath = PUBLIC_KEY_FILEPATH)\n",
    "\n",
    "periplasmic_stack = Stack.Stack.load_compressed_pickle(pickle_filepath = '../common/stacks/Example_AP-20-4.xz',\n",
    "                                                       public_key_filepath = PUBLIC_KEY_FILEPATH)"
   ]
  },
  {
   "cell_type": "markdown",
   "metadata": {},
   "source": [
    "## Prepare the Convolutional Autoencoders"
   ]
  },
  {
   "cell_type": "code",
   "execution_count": null,
   "metadata": {},
   "outputs": [],
   "source": [
    "# Determine the input shape for the CAE. It should be (width,height,channels). In our case (64,64,1)\n",
    "cyto_input_shape = (*cytoplasmic_stack.stack.shape[1:], 1)\n",
    "peri_input_shape = (*periplasmic_stack.stack.shape[1:], 1)\n",
    "\n",
    "# Create the Convolutional Autoencoder models to train with our data.\n",
    "cytoplasmic_CAE = DL.DefaultCAE(input_shape = cyto_input_shape)\n",
    "periplasmic_CAE = DL.DefaultCAE(input_shape = peri_input_shape)"
   ]
  },
  {
   "cell_type": "markdown",
   "metadata": {},
   "source": [
    "## Apply Hierarchical Deep Spectral Clustering"
   ]
  },
  {
   "cell_type": "code",
   "execution_count": null,
   "metadata": {},
   "outputs": [],
   "source": [
    "# Apply Hierarchical DSC to the cytoplasmic stack.\n",
    "cyto_clusters = REC.hierarchical_DSC(cytoplasmic_stack,\n",
    "                                     cytoplasmic_CAE,\n",
    "                                     k_neighbors = 7,\n",
    "                                     max_iterations = 5,\n",
    "                                     lafm_target_resolution = (96,96),\n",
    "                                     lafm_sigma = 2.25,\n",
    "                                     stability_threshold = 0.85,\n",
    "                                     distinct_cluster_threshold = 0.7)\n",
    "\n",
    "# Calculate the mean images for each cluster\n",
    "for cluster in cyto_clusters:\n",
    "    cluster.calc_mean_image()\n",
    "    cluster.calc_LAFM_image(target_resolution = (96, 96), sigma = 2.25)"
   ]
  },
  {
   "cell_type": "code",
   "execution_count": null,
   "metadata": {},
   "outputs": [],
   "source": [
    "fig, ax = plt.subplots(len(cyto_clusters), 2, figsize = (4, len(cyto_clusters) * 2))\n",
    "for i, cluster in enumerate(cyto_clusters):\n",
    "    ax[i, 0].imshow(cluster.mean_image, cmap = Plotting.LAFMcmap)\n",
    "    ax[i, 1].imshow(cluster.LAFM_image, cmap = Plotting.LAFMcmap)\n",
    "\n",
    "    ax[i,0].set_ylabel(f'Cluster {i}', fontsize = 14)\n",
    "for axis in ax.ravel():\n",
    "    axis.set_xticks([])\n",
    "    axis.set_yticks([])\n",
    "ax[0, 0].set_title('Mean Image', fontsize = 14)\n",
    "ax[0, 1].set_title('LAFM Image', fontsize = 14)"
   ]
  },
  {
   "cell_type": "code",
   "execution_count": null,
   "metadata": {},
   "outputs": [],
   "source": [
    "# Apply Hierarchical DSC to the cytoplasmic stack.\n",
    "peri_clusters = REC.hierarchical_DSC(periplasmic_stack,\n",
    "                                     periplasmic_CAE,\n",
    "                                     k_neighbors = 7,\n",
    "                                     max_iterations = 5,\n",
    "                                     lafm_target_resolution = (96,96),\n",
    "                                     lafm_sigma = 2.25,\n",
    "                                     stability_threshold = 0.85,\n",
    "                                     distinct_cluster_threshold = 0.7)\n",
    "\n",
    "# Calculate the mean images for each cluster\n",
    "for cluster in peri_clusters:\n",
    "    cluster.calc_mean_image()\n",
    "    cluster.calc_LAFM_image(target_resolution = (96, 96), sigma = 2.25)"
   ]
  },
  {
   "cell_type": "code",
   "execution_count": null,
   "metadata": {},
   "outputs": [],
   "source": [
    "fig, ax = plt.subplots(len(peri_clusters), 2, figsize = (4, len(peri_clusters) * 2))\n",
    "for i, cluster in enumerate(peri_clusters):\n",
    "    ax[i, 0].imshow(cluster.mean_image, cmap = Plotting.LAFMcmap)\n",
    "    ax[i, 1].imshow(cluster.LAFM_image, cmap = Plotting.LAFMcmap)\n",
    "\n",
    "    ax[i,0].set_ylabel(f'Cluster {i}', fontsize = 14)\n",
    "for axis in ax.ravel():\n",
    "    axis.set_xticks([])\n",
    "    axis.set_yticks([])\n",
    "ax[0, 0].set_title('Mean Image', fontsize = 14)\n",
    "ax[0, 1].set_title('LAFM Image', fontsize = 14)"
   ]
  }
 ],
 "metadata": {
  "kernelspec": {
   "display_name": "AFMpy-GPU",
   "language": "python",
   "name": "python3"
  },
  "language_info": {
   "codemirror_mode": {
    "name": "ipython",
    "version": 3
   },
   "file_extension": ".py",
   "mimetype": "text/x-python",
   "name": "python",
   "nbconvert_exporter": "python",
   "pygments_lexer": "ipython3",
   "version": "3.12.2"
  }
 },
 "nbformat": 4,
 "nbformat_minor": 4
}
