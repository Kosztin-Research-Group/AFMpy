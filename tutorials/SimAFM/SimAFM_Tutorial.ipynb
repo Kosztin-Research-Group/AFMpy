{
 "cells": [
  {
   "cell_type": "markdown",
   "metadata": {},
   "source": [
    "# Tutorial for AFMpy.SimAFM"
   ]
  },
  {
   "cell_type": "markdown",
   "metadata": {},
   "source": [
    "## Imports"
   ]
  },
  {
   "cell_type": "code",
   "execution_count": null,
   "metadata": {},
   "outputs": [],
   "source": [
    "# Standard library imports\n",
    "import json\n",
    "import logging\n",
    "from pathlib import Path\n",
    "\n",
    "# Third party imports\n",
    "import MDAnalysis as MDA\n",
    "import matplotlib.pyplot as plt\n",
    "\n",
    "# AFMpy imports\n",
    "from AFMpy import SimAFM, Stack, Plotting, Utilities"
   ]
  },
  {
   "cell_type": "markdown",
   "metadata": {},
   "source": [
    "## Logging Configuration"
   ]
  },
  {
   "cell_type": "code",
   "execution_count": null,
   "metadata": {},
   "outputs": [],
   "source": [
    "# Load the preconfigured logging settings\n",
    "with open('logs/SimAFM_Tutorial_LoggingConfig.json', 'r') as f:\n",
    "    LOGGING_CONFIG = json.load(f)\n",
    "\n",
    "# Set up the logging configuration\n",
    "logging.config.dictConfig(LOGGING_CONFIG)"
   ]
  },
  {
   "cell_type": "markdown",
   "metadata": {},
   "source": [
    "## Matplotlib Configuration"
   ]
  },
  {
   "cell_type": "code",
   "execution_count": null,
   "metadata": {},
   "outputs": [],
   "source": [
    "# Configure the rcParams for the plots\n",
    "Plotting.configure_formatting()"
   ]
  },
  {
   "cell_type": "markdown",
   "metadata": {},
   "source": [
    "## Load the Trajectory"
   ]
  },
  {
   "cell_type": "code",
   "execution_count": null,
   "metadata": {},
   "outputs": [],
   "source": [
    "# Define the paths to the PSF and DCD files\n",
    "PSF_PATH = '../common/MD/Example_SecYEG.psf'\n",
    "DCD_PATH = '../common/MD/Example_AlignedSecYEG.dcd'\n",
    "\n",
    "# Load the PSF and DCD files using MDAnalysis\n",
    "universe = MDA.Universe(PSF_PATH, DCD_PATH)"
   ]
  },
  {
   "cell_type": "markdown",
   "metadata": {},
   "source": [
    "## Set the Scanning Parameters"
   ]
  },
  {
   "cell_type": "code",
   "execution_count": null,
   "metadata": {},
   "outputs": [],
   "source": [
    "# Tip shape parameters\n",
    "tip_radius = 20\n",
    "tip_theta = 18\n",
    "\n",
    "# Scanning boundaries and shape\n",
    "boundaries = ((-64,64),(-64,64))\n",
    "scan_shape = (64,64)\n",
    "\n",
    "# Atom Selections. Determine which atoms to scan, and which to consider the background.\n",
    "# In this case, we scan the protein atoms, considering the heads of the lipids as the background.\n",
    "protein_selection = 'protein'\n",
    "membrane_selection = 'segid MEMB'\n",
    "head_selection = 'name P'\n",
    "\n",
    "# Choose the VDW radius mapping. In this case, we use the All Atom mapping.\n",
    "vdw_mapping = SimAFM.AA_VDW_Dict()"
   ]
  },
  {
   "cell_type": "markdown",
   "metadata": {},
   "source": [
    "## Run the AFM Simulation"
   ]
  },
  {
   "cell_type": "code",
   "execution_count": null,
   "metadata": {},
   "outputs": [],
   "source": [
    "# Create the grid of points to scan.\n",
    "grid = SimAFM.make_grid(boundaries, scan_shape)\n",
    "\n",
    "simulated_scans = SimAFM.simulate_AFM2D_stack(universe = universe,\n",
    "                                              atom_selection = protein_selection,\n",
    "                                              memb_selection = membrane_selection,\n",
    "                                              head_selection = head_selection,\n",
    "                                              grid = grid,\n",
    "                                              tip_radius = tip_radius,\n",
    "                                              tip_theta = tip_theta,\n",
    "                                              vdw_dict = vdw_mapping)"
   ]
  },
  {
   "cell_type": "markdown",
   "metadata": {},
   "source": [
    "## Create the Stack Object"
   ]
  },
  {
   "cell_type": "code",
   "execution_count": null,
   "metadata": {},
   "outputs": [],
   "source": [
    "# Create a dictionary to save the metadata of the scan.\n",
    "mdetadata = {\n",
    "    'aligned': True,\n",
    "    'alignment_method': 'Transmembrane Backbone RMSD Minimization',\n",
    "    'side': 'Periplasmic',\n",
    "    'normalized': False,\n",
    "    'PDB Code': '3DIN',\n",
    "    'Membrane Composition': 'POPE',\n",
    "    'Trajectory File': 'Example_AlignedSecYEG.dcd',\n",
    "    'PSF File': 'Example_SecYEG.psf',\n",
    "    'Tip Radius': tip_radius,\n",
    "    'Tip Theta': tip_theta\n",
    "}\n",
    "\n",
    "# Calculate the resolution from the grid\n",
    "resolution = (boundaries[0][1] - boundaries[0][0]) / scan_shape[0]\n",
    "\n",
    "# Create the stack object\n",
    "stack = Stack.Stack(simulated_scans, resolution = resolution, metadata = mdetadata)"
   ]
  },
  {
   "cell_type": "markdown",
   "metadata": {},
   "source": [
    "## Plot the Simulated AFM image."
   ]
  },
  {
   "cell_type": "code",
   "execution_count": null,
   "metadata": {},
   "outputs": [],
   "source": [
    "# Plot the first scan from the stack\n",
    "fig, ax = plt.subplots(figsize = (6, 6))\n",
    "ax.axis('off')\n",
    "ax.imshow(stack.stack[0], cmap = Plotting.LAFMcmap)\n",
    "\n",
    "plt.show()"
   ]
  },
  {
   "cell_type": "markdown",
   "metadata": {},
   "source": [
    "## Save the Stack Object to a file."
   ]
  },
  {
   "cell_type": "code",
   "execution_count": null,
   "metadata": {},
   "outputs": [],
   "source": [
    "# Set the paths for the private and public keys we will use to digitally sign the stack.\n",
    "PRIVATE_KEY_PATH = Path('keys/Tutorial_Private.pem')\n",
    "PUBLIC_KEY_PATH = Path('keys/Tutorial_Public.pub')\n",
    "\n",
    "# If the keys do not exist, generate them.\n",
    "if not PRIVATE_KEY_PATH.exists() or not PUBLIC_KEY_PATH.exists():\n",
    "    Utilities.generate_keys(PRIVATE_KEY_PATH, PUBLIC_KEY_PATH)\n",
    "\n",
    "# Save the stack and digitally sign it with the private key.\n",
    "stack.save_compressed_pickle('output/SecYEG_TutorialStack.xz', private_key_filepath = PRIVATE_KEY_PATH)"
   ]
  }
 ],
 "metadata": {
  "kernelspec": {
   "display_name": "AFMpy-GPU",
   "language": "python",
   "name": "python3"
  },
  "language_info": {
   "codemirror_mode": {
    "name": "ipython",
    "version": 3
   },
   "file_extension": ".py",
   "mimetype": "text/x-python",
   "name": "python",
   "nbconvert_exporter": "python",
   "pygments_lexer": "ipython3",
   "version": "3.12.2"
  }
 },
 "nbformat": 4,
 "nbformat_minor": 2
}
