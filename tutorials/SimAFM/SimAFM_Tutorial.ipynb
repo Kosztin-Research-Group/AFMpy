{
 "cells": [
  {
   "cell_type": "markdown",
   "metadata": {},
   "source": [
    "# Tutorial for AFMpy.SimAFM"
   ]
  },
  {
   "cell_type": "markdown",
   "metadata": {},
   "source": [
    "## Imports"
   ]
  },
  {
   "cell_type": "code",
   "execution_count": null,
   "metadata": {},
   "outputs": [],
   "source": [
    "# Standard library imports\n",
    "import json\n",
    "import logging\n",
    "from pathlib import Path\n",
    "\n",
    "# Import warnings for filtering out deprecation warnings\n",
    "import warnings\n",
    "\n",
    "# Filter the Bio warnings\n",
    "warnings.filterwarnings('ignore', module='Bio')\n",
    "\n",
    "# Third party imports\n",
    "import MDAnalysis as MDA\n",
    "from MDAnalysis import transformations\n",
    "import matplotlib.pyplot as plt\n",
    "\n",
    "# Filter the MDanalysis warnings\n",
    "warnings.filterwarnings('ignore', module='MDAnalysis')\n",
    "\n",
    "# AFMpy imports\n",
    "from AFMpy import SimAFM, Stack, Plotting, Utilities"
   ]
  },
  {
   "cell_type": "markdown",
   "metadata": {},
   "source": [
    "## Logging Configuration"
   ]
  },
  {
   "cell_type": "markdown",
   "metadata": {},
   "source": [
    "Each module in AFMpy contains logging to for debugging purposes via the default python logging library. Logging for the modules should always be configured at the application level. Included in these tutorials are example logging configuration files that can be loaded with the following functions. You may adjust these logging configuration files as you see fit."
   ]
  },
  {
   "cell_type": "code",
   "execution_count": null,
   "metadata": {},
   "outputs": [],
   "source": [
    "# Load the preconfigured logging settings\n",
    "with open('logs/SimAFM_Tutorial_LoggingConfig.json', 'r') as f:\n",
    "    LOGGING_CONFIG = json.load(f)\n",
    "\n",
    "# Set up the logging configuration\n",
    "logging.config.dictConfig(LOGGING_CONFIG)"
   ]
  },
  {
   "cell_type": "markdown",
   "metadata": {},
   "source": [
    "## Matplotlib Configuration"
   ]
  },
  {
   "cell_type": "markdown",
   "metadata": {},
   "source": [
    "Included within the ```Plotting``` module are functions for creating the high quality figures. A default configuration that matches the figures in the publication is activated by running the following function."
   ]
  },
  {
   "cell_type": "code",
   "execution_count": null,
   "metadata": {},
   "outputs": [],
   "source": [
    "# Configure the rcParams for the plots\n",
    "Plotting.configure_formatting()"
   ]
  },
  {
   "cell_type": "markdown",
   "metadata": {},
   "source": [
    "## Load the Trajectory"
   ]
  },
  {
   "cell_type": "markdown",
   "metadata": {},
   "source": [
    "The first step is to create an ```MDAnalysis.Universe``` object from our structure (PSF) and trajectory (DCD) files. We also apply a simple 90° rotation around the z-axis to orient the system in a visually pleasing way."
   ]
  },
  {
   "cell_type": "code",
   "execution_count": null,
   "metadata": {},
   "outputs": [],
   "source": [
    "# Define the paths to the PSF and DCD files\n",
    "PSF_PATH = '../common/MD/Example_SecYEG.psf'\n",
    "DCD_PATH = '../common/MD/Example_SecYEG_Aligned.dcd'\n",
    "\n",
    "# Define a list of transformations to apply to the trajectory\n",
    "# Create transformation workflow for periplasmic side.\n",
    "rotz = transformations.rotateby(90, direction = [0,0,1], point = [0,0,0])\n",
    "workflow = [rotz]\n",
    "\n",
    "# Load the PSF and DCD files using MDAnalysis\n",
    "universe = MDA.Universe(PSF_PATH, DCD_PATH, transformations = workflow)"
   ]
  },
  {
   "cell_type": "markdown",
   "metadata": {},
   "source": [
    "## Set the Scanning Parameters"
   ]
  },
  {
   "cell_type": "markdown",
   "metadata": {},
   "source": [
    "The shape of the simulated AFM tip is described by its radius in Å and its half-angle in degrees. Below, we set:\n",
    " - ```tip_radius = 20``` Å\n",
    " - ```tip_theta = 18``` degrees\n",
    "\n",
    "Next, we decide the size and resolution of our AFM image by specifying:\n",
    " - ```boundaries = ((-64,64), (-64,64))``` (128 Å in each dimension)\n",
    " - ```scan_shape = (32,32)``` (Corresponds to a 4 Å/pixel resolution (128 Å / 32 pixels))\n",
    "\n",
    "We then specify the atom selections to be scanned. Here, we scan all ```protein``` atoms whose z-position is above the average position of the phosphorous headgroup atoms in the membrane (```segid MEMB and name P```). Because the selection is evaluated each frame, if the protein fluctuates, the protruding portion is automatically updated before scanning.\n",
    "\n",
    "Finally, since this data comes from an all-atom Molecular Dynamics simulation (CHARMM force field), we use ```AA_VDW_Dict()``` to map each atom’s van der Waals radius."
   ]
  },
  {
   "cell_type": "code",
   "execution_count": null,
   "metadata": {},
   "outputs": [],
   "source": [
    "# Tip shape parameters\n",
    "tip_radius = 20\n",
    "tip_theta = 18\n",
    "\n",
    "# Scanning boundaries and shape\n",
    "boundaries = ((-64,64),(-64,64))\n",
    "scan_shape = (32,32)\n",
    "\n",
    "# Atom Selections. Determine which atoms to scan, and which to consider the background.\n",
    "# In this case, we scan the protein atoms, considering the heads of the lipids as the background.\n",
    "protein_selection = 'protein'\n",
    "membrane_selection = 'segid PHOS'\n",
    "head_selection = 'name P'\n",
    "\n",
    "# Choose the VDW radius mapping. In this case, we use the All Atom mapping.\n",
    "vdw_mapping = SimAFM.AA_VDW_Dict()"
   ]
  },
  {
   "cell_type": "markdown",
   "metadata": {},
   "source": [
    "## Run the AFM Simulation"
   ]
  },
  {
   "cell_type": "markdown",
   "metadata": {},
   "source": [
    "After defining our simulation parameters and loading the universe, we create a grid of (x, y) points corresponding to the locations at which the AFM tip will scan. We then call ```simulate_AFM2D_stack``` to perform the simulated scans over each frame in the trajectory."
   ]
  },
  {
   "cell_type": "code",
   "execution_count": null,
   "metadata": {},
   "outputs": [],
   "source": [
    "# Create the grid of points to scan.\n",
    "grid = SimAFM.make_grid(boundaries, scan_shape)\n",
    "\n",
    "simulated_scans = SimAFM.simulate_AFM2D_stack(universe = universe,\n",
    "                                              atom_selection = protein_selection,\n",
    "                                              memb_selection = membrane_selection,\n",
    "                                              head_selection = head_selection,\n",
    "                                              grid = grid,\n",
    "                                              tip_radius = tip_radius,\n",
    "                                              tip_theta = tip_theta,\n",
    "                                              vdw_dict = vdw_mapping)"
   ]
  },
  {
   "cell_type": "markdown",
   "metadata": {},
   "source": [
    "## Create the Stack Object"
   ]
  },
  {
   "cell_type": "markdown",
   "metadata": {},
   "source": [
    "Once the simulated scans have been created, the next step is to store them, along with additional metadata, in a single container that is compatible with the rest of the analysis/visualization package. Here, we create a ```Stack``` object, which holds both the data and associated information such as alignment details and resolution."
   ]
  },
  {
   "cell_type": "code",
   "execution_count": null,
   "metadata": {},
   "outputs": [],
   "source": [
    "# Create a dictionary to save the metadata of the scan.\n",
    "metadata = {\n",
    "    'Aligned': True,\n",
    "    'Alignment Method': 'Transmembrane Backbone RMSD Minimization',\n",
    "    'Side': 'Periplasmic',\n",
    "    'PDB Code': '3DIN',\n",
    "    'Membrane Composition': 'POPE',\n",
    "    'Trajectory File': 'Example_SecYEG_Aligned.dcd',\n",
    "    'Structure File': 'Example_SecYEG.psf',\n",
    "    'Tip Radius': tip_radius,\n",
    "    'Tip Theta': tip_theta\n",
    "}\n",
    "\n",
    "# Calculate the resolution from the grid\n",
    "resolution = (boundaries[0][1] - boundaries[0][0]) / scan_shape[0]\n",
    "\n",
    "# Create the stack object\n",
    "stack = Stack.Stack(simulated_scans, resolution = resolution, **metadata)"
   ]
  },
  {
   "cell_type": "markdown",
   "metadata": {},
   "source": [
    "## Plot the Simulated AFM image"
   ]
  },
  {
   "cell_type": "markdown",
   "metadata": {},
   "source": [
    "Once the ```Stack``` object is created, we can visualize individual scans. In this example, we display the first scan in the dataset using the ```Stack.plot_image method```, which takes an image index and plots it on a specified Matplotlib axis. We use the custom ```LAFMcmap``` colormap from the ```Plotting``` module.\n",
    "\n",
    "The ```Plotting``` module also provides helper functions for adding a scalebar and a colorbar: ```Plotting.add_scalebar``` and ```Plotting.add_colorbar```, respectively.\n",
    "\n",
    "- Scalebar: ```Plotting.add_scalebar``` requires specifying the width of the scalebar in pixels, which supports subpixel values. Here, we set the width to ```10/stack.resolution``` (equivalent to 1 nm) and use a matching label.\n",
    "\n",
    "- Colorbar: ```Plotting.add_colorbar``` automatically creates a colorbar axis, matching the intensity scale of the provided axis. We define its width as a fraction of the original axis width, specify the padding to the right of the axis, and add a label for the intensity scale."
   ]
  },
  {
   "cell_type": "code",
   "execution_count": null,
   "metadata": {},
   "outputs": [],
   "source": [
    "# Plot the first scan from the stack\n",
    "fig, ax = plt.subplots(figsize = (6, 6))\n",
    "ax.axis('off')\n",
    "ax = stack.plot_image(0, ax = ax, cmap = Plotting.LAFMcmap)\n",
    "ax = Plotting.add_scalebar(10/stack.resolution, label = '1nm')\n",
    "cbar = Plotting.add_colorbar(width = '5%', pad = 0.08, label = 'Height (Å)')\n",
    "\n",
    "plt.show()"
   ]
  },
  {
   "cell_type": "markdown",
   "metadata": {},
   "source": [
    "## Save the Stack Object to a File"
   ]
  },
  {
   "cell_type": "markdown",
   "metadata": {},
   "source": [
    "After generating the stack of AFM images, the final step is to store the results. We use a compressed pickle format (```.xz```) for efficient file size. However, unpickling data is inherently risky, as **maliciously crafted pickle files can execute arbitrary code.** Therefore, **never unpickle data from an untrusted source.**\n",
    "\n",
    "To help mitigate this risk, we’ve included functions to cryptographically sign the pickle, ensuring data integrity when sharing. The process is straightforward:\n",
    "\n",
    " 1. Generate or specify a private/public key pair. (You can use your own, or generate one on the fly.)\n",
    " 2. Provide the private key to the ```Stack.save_compressed_pickle``` method. This creates an ```.xz``` file containing the pickle and a corresponding ```.sig``` file.\n",
    " 3. Distribute the ```.xz```, ```.sig```, and ```.pub``` (public key) together. The private ```.pem``` file must never be shared.\n",
    " 4. Recipients can then safely load the pickle with ```Stack.load_compressed_pickle```, verifying the signature using your public key.\n",
    "\n",
    "If necessary, you can bypass signing/validation by setting ```sign_pickle``` or ```validate_pickle``` to ```False```. However, this practice is **not** recommended. Disabling signature checks leaves you vulnerable to malicious files—use it only at your own risk."
   ]
  },
  {
   "cell_type": "markdown",
   "metadata": {},
   "source": [
    "### Generate the Cryptographic Keys"
   ]
  },
  {
   "cell_type": "code",
   "execution_count": null,
   "metadata": {},
   "outputs": [],
   "source": [
    "# Set the paths for the private and public keys we will use to digitally sign the stack.\n",
    "PRIVATE_KEY_PATH = Path('keys/Tutorial_Private.pem')\n",
    "PUBLIC_KEY_PATH = Path('keys/Tutorial_Public.pub')\n",
    "\n",
    "# Create the keys directory if it does not exist.\n",
    "PRIVATE_KEY_PATH.parent.mkdir(parents=True, exist_ok=True)\n",
    "\n",
    "# If the keys do not exist, generate them.\n",
    "if not PRIVATE_KEY_PATH.exists() or not PUBLIC_KEY_PATH.exists():\n",
    "    Utilities.generate_keys(PRIVATE_KEY_PATH, PUBLIC_KEY_PATH)"
   ]
  },
  {
   "cell_type": "markdown",
   "metadata": {},
   "source": [
    "### Save the Stack Object to a Pickle File"
   ]
  },
  {
   "cell_type": "code",
   "execution_count": null,
   "metadata": {},
   "outputs": [],
   "source": [
    "# If the output directory does not exist, create it.\n",
    "OUTPUT_DIR = Path('output')\n",
    "OUTPUT_DIR.mkdir(parents=True, exist_ok=True)\n",
    "\n",
    "# Save the stack and digitally sign it with the private key.\n",
    "stack.save_compressed_pickle(OUTPUT_DIR / 'Example_SecYEG_Stack.xz', private_key_filepath = PRIVATE_KEY_PATH)"
   ]
  }
 ],
 "metadata": {
  "kernelspec": {
   "display_name": "AFMpy-GPU",
   "language": "python",
   "name": "python3"
  },
  "language_info": {
   "codemirror_mode": {
    "name": "ipython",
    "version": 3
   },
   "file_extension": ".py",
   "mimetype": "text/x-python",
   "name": "python",
   "nbconvert_exporter": "python",
   "pygments_lexer": "ipython3",
   "version": "3.12.2"
  }
 },
 "nbformat": 4,
 "nbformat_minor": 2
}
