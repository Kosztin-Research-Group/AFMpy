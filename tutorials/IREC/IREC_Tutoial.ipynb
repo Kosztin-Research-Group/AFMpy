{
 "cells": [
  {
   "cell_type": "markdown",
   "metadata": {},
   "source": [
    "# Tutorial for AFMpy.REC.IREC"
   ]
  },
  {
   "cell_type": "markdown",
   "metadata": {},
   "source": [
    "## Imports"
   ]
  },
  {
   "cell_type": "code",
   "execution_count": null,
   "metadata": {},
   "outputs": [],
   "source": [
    "# Standard library imports\n",
    "import json\n",
    "import logging\n",
    "from pystackreg import StackReg\n",
    "\n",
    "# Third party imports\n",
    "import numpy as np\n",
    "import pandas as pd\n",
    "import cv2\n",
    "import matplotlib.pyplot as plt\n",
    "\n",
    "# AFMpy imports\n",
    "from AFMpy import Stack, DL, Plotting, REC, SSIM"
   ]
  },
  {
   "cell_type": "markdown",
   "metadata": {},
   "source": [
    "## Configure Logging"
   ]
  },
  {
   "cell_type": "code",
   "execution_count": null,
   "metadata": {},
   "outputs": [],
   "source": [
    "# Load the preconfigured logging settings\n",
    "with open('logs/IREC_Tutorial_LoggingConfig.json', 'r') as f:\n",
    "    LOGGING_CONFIG = json.load(f)\n",
    "\n",
    "# Set up the logging configuration\n",
    "logging.config.dictConfig(LOGGING_CONFIG)"
   ]
  },
  {
   "cell_type": "markdown",
   "metadata": {},
   "source": [
    "## Matplotlib Configuration"
   ]
  },
  {
   "cell_type": "markdown",
   "metadata": {},
   "source": [
    "Included within the ```Plotting``` module are functions for creating the high quality figures. A default configuration that matches the figures in the publication is activated by running the following function."
   ]
  },
  {
   "cell_type": "code",
   "execution_count": null,
   "metadata": {},
   "outputs": [],
   "source": [
    "# Configure the rcParams for the plots\n",
    "Plotting.configure_formatting()"
   ]
  },
  {
   "cell_type": "markdown",
   "metadata": {},
   "source": [
    "## Check if the GPU is accessible by Tensorflow"
   ]
  },
  {
   "cell_type": "markdown",
   "metadata": {},
   "source": [
    "This tutorial uses Tensorflow and Keras in its deep learning algorithms. The performance, especially for large image stacks is substantially degraded when not using the GPU, so it is highly reccomended to use the GPU if available. The helper function ```DL.is_gpu_available``` will check to see if Tensorflow has GPU access. "
   ]
  },
  {
   "cell_type": "code",
   "execution_count": null,
   "metadata": {},
   "outputs": [],
   "source": [
    "# Check to see if the GPU is available\n",
    "if DL.is_gpu_available():\n",
    "    print('GPU is accessible by tensorflow.')\n",
    "else:\n",
    "    print('GPU is NOT accessible by tensorflow. If you want to use GPU, please check your AFMpy version and tensorflow installation.')"
   ]
  },
  {
   "cell_type": "markdown",
   "metadata": {},
   "source": [
    "## Load the Stacks"
   ]
  },
  {
   "cell_type": "markdown",
   "metadata": {},
   "source": [
    "Here we load the compressed pickle file of our unaligned cytoplasmic/periplasmic stacks scanned with a 2nm tip at 4Å/px (UC-20-4 and UP-20-4 respectively). A comprehensive explanation of the loading functions is available in the ```LAFM``` tutorial."
   ]
  },
  {
   "cell_type": "code",
   "execution_count": null,
   "metadata": {},
   "outputs": [],
   "source": [
    "# Set the filepath for the public key to verify the integrity of the stacks.\n",
    "PUBLIC_KEY_FILEPATH = '../common/keys/Tutorial_Public.pub'\n",
    "\n",
    "# Load the cytoplasmic and periplasmic stacks\n",
    "cytoplasmic_stack = Stack.Stack.load_compressed_pickle(pickle_filepath = '../common/stacks/Example_UC-20-4.xz',\n",
    "                                                       public_key_filepath = PUBLIC_KEY_FILEPATH)\n",
    "\n",
    "periplasmic_stack = Stack.Stack.load_compressed_pickle(pickle_filepath = '../common/stacks/Example_UP-20-4.xz',\n",
    "                                                       public_key_filepath = PUBLIC_KEY_FILEPATH)"
   ]
  },
  {
   "cell_type": "markdown",
   "metadata": {},
   "source": [
    "Display the metadata of each stack."
   ]
  },
  {
   "cell_type": "code",
   "execution_count": null,
   "metadata": {},
   "outputs": [],
   "source": [
    "print('Cytoplasmic Stack Metadata:')\n",
    "cytoplasmic_stack.display_metadata()\n",
    "print('Periplasmic Stack Metadata:')\n",
    "periplasmic_stack.display_metadata()"
   ]
  },
  {
   "cell_type": "markdown",
   "metadata": {},
   "source": [
    "## Prepare the Convolutional Autoencoders"
   ]
  },
  {
   "cell_type": "markdown",
   "metadata": {},
   "source": [
    "Prepare the convolutional autoencoder (CAE) for deep spectral clustering.\n",
    "\n",
    "A comprehensive description of the ```ConvolutionalAutoencoder``` object is available in the ```DSC``` tutorial."
   ]
  },
  {
   "cell_type": "code",
   "execution_count": null,
   "metadata": {},
   "outputs": [],
   "source": [
    "# Determine the input shape for the CAE. It should be (width,height,channels). In our case (64,64,1)\n",
    "cyto_input_shape = (*cytoplasmic_stack.images.shape[1:], 1)\n",
    "peri_input_shape = (*periplasmic_stack.images.shape[1:], 1)\n",
    "\n",
    "# Set the configurations for the Convolutional Autoencoder. Adjust the parameters as needed.\n",
    "compile_config = DL.CompileConfig(optimizer = 'adam', loss = DL.Losses.combined_ssim_loss)\n",
    "fit_config = DL.FitConfig(epochs = 25, batch_size = 32, verbose = 1)\n",
    "predict_config = DL.PredictConfig(batch_size = 32, verbose = 1)\n",
    "\n",
    "# Create the Convolutional Autoencoder models to train with our data.\n",
    "cytoplasmic_CAE = DL.DefaultCAE(input_shape = cyto_input_shape, compile_config = compile_config, fit_config = fit_config, predict_config = predict_config)\n",
    "periplasmic_CAE = DL.DefaultCAE(input_shape = peri_input_shape, compile_config = compile_config, fit_config = fit_config, predict_config = predict_config)"
   ]
  },
  {
   "cell_type": "markdown",
   "metadata": {},
   "source": [
    "## Create the StackReg object"
   ]
  },
  {
   "cell_type": "markdown",
   "metadata": {},
   "source": [
    "Because the image stacks are unaligned, they must undergo some registration before clustering. Image registration is handled by ```pystackreg```. We create an instance of the ```StackReg``` object with the registration type ```StackReg.RIGID_BODY```."
   ]
  },
  {
   "cell_type": "code",
   "execution_count": null,
   "metadata": {},
   "outputs": [],
   "source": [
    "sr = StackReg(StackReg.RIGID_BODY)"
   ]
  },
  {
   "cell_type": "markdown",
   "metadata": {},
   "source": [
    "## Apply Iterative Registration and Clustering"
   ]
  },
  {
   "cell_type": "markdown",
   "metadata": {},
   "source": [
    "### Cytoplasmic IREC"
   ]
  },
  {
   "cell_type": "markdown",
   "metadata": {},
   "source": [
    "#### Train the Model and Apply IREC"
   ]
  },
  {
   "cell_type": "markdown",
   "metadata": {},
   "source": [
    "The ```REC.IREC``` function applies Iterative Registration and Clustering (IREC) to a given ```Stack``` object using a specified ```ConvolutionalAutoencoder```. This method iteratively performs image registration and spectral clustering, refining clusters until convergence.\n",
    "\n",
    "Key parameters include:\n",
    "\n",
    "- ```cae```: The convolutional autoencoder model used to generate latent feature vectors (LFVs).\n",
    "\n",
    "- ```sr```: The registration method (default is rigid-body registration) used to align images.\n",
    "\n",
    "- ```reference_index```: Initial index of the reference image for registration.\n",
    "\n",
    "- ```n_clusters```: The desired number of clusters to form.\n",
    "\n",
    "- ```k_neighbors```: Defines the local neighborhood size for locally scaled affinity matrix calculation.\n",
    "\n",
    "- ```max_iterations```: Limits the maximum number of iterations for the iterative registration and clustering process.\n",
    "\n",
    "During each iteration, the stack is registered relative to optimal reference images selected by maximizing silhouette scores, and spectral clustering is subsequently applied to refine cluster assignments. Iterations continue until clusters converge or the maximum iteration limit is reached.\n",
    "\n",
    "The function returns a list of new ```Stack``` objects, each representing a refined conformational cluster.\n",
    "\n",
    "After we apply the IREC algorithm, we generate the mean and LAFM images for each cluster."
   ]
  },
  {
   "cell_type": "code",
   "execution_count": null,
   "metadata": {},
   "outputs": [],
   "source": [
    "cytoplasmic_stack.shuffle()\n",
    "\n",
    "cyto_clusters = REC.IREC(cytoplasmic_stack,\n",
    "                         cytoplasmic_CAE,\n",
    "                         sr = sr,\n",
    "                         n_clusters = 3,\n",
    "                         k_neighbors = 7,\n",
    "                         max_iterations = 5)\n",
    "\n",
    "# Calculate the mean images for each cluster\n",
    "for cluster in cyto_clusters:\n",
    "    cluster.calc_mean_image() \n",
    "    cluster.calc_LAFM_image(target_resolution = (96, 96), sigma = 2.25)"
   ]
  },
  {
   "cell_type": "markdown",
   "metadata": {},
   "source": [
    "#### Load and Process the Cytoplasmic Benchmark Stack"
   ]
  },
  {
   "cell_type": "markdown",
   "metadata": {},
   "source": [
    "Load the benchmark stacks and register and cluster the stacks according to the optimal registration references found by applying IREC to the AC-20-4 stack. Each benchmark cluster has its LAFM image generated.."
   ]
  },
  {
   "cell_type": "code",
   "execution_count": null,
   "metadata": {},
   "outputs": [],
   "source": [
    "benchmark_cytoplasmic_stack = Stack.Stack.load_compressed_pickle(pickle_filepath = '../common/stacks/Example_AC-2-2.xz',\n",
    "                                                                 public_key_filepath = PUBLIC_KEY_FILEPATH)\n",
    "\n",
    "benchmark_cyto_clusters = []\n",
    "for cluster in cyto_clusters:\n",
    "    ref = cluster.indexes == cluster.get_metadata('registration_reference')\n",
    "    benchmark_images = benchmark_cytoplasmic_stack.images[cluster.indexes]\n",
    "    benchmark_ref = benchmark_images[ref][0]\n",
    "    registered_bechmark_images = REC.register_image_stack(benchmark_ref, benchmark_images, sr = sr)\n",
    "    bechmark_cluster = Stack.Stack(images = registered_bechmark_images, resolution = benchmark_cytoplasmic_stack.resolution, indexes = cluster.indexes)\n",
    "    bechmark_cluster.calc_LAFM_image(target_resolution = (192,192), sigma = 2.25)\n",
    "    benchmark_cyto_clusters.append(bechmark_cluster)"
   ]
  },
  {
   "cell_type": "markdown",
   "metadata": {},
   "source": [
    "#### Display the Cytoplasmic Clustered LAFM Images"
   ]
  },
  {
   "cell_type": "markdown",
   "metadata": {},
   "source": [
    "Plot the mean, LAFM, and benchmark LAFM images from each cluster."
   ]
  },
  {
   "cell_type": "code",
   "execution_count": null,
   "metadata": {},
   "outputs": [],
   "source": [
    "# Set the color range based upon the maximum LAFM image value across all clusters.\n",
    "vmin = 0\n",
    "vmax = np.max([cluster.LAFM_image for cluster in cyto_clusters])\n",
    "\n",
    "# Create the figure.\n",
    "fig, ax = plt.subplots(len(cyto_clusters), 3, figsize = (9, 3 * len(cyto_clusters)))\n",
    "\n",
    "# Turn off the tick marks\n",
    "for axis in ax.ravel():\n",
    "    axis.set_xticks([])\n",
    "    axis.set_yticks([])\n",
    "\n",
    "# Set the axis labels \n",
    "ax[0,0].set_title('Mean Image', fontsize = 16)\n",
    "ax[0,1].set_title('LAFM Image', fontsize = 16)\n",
    "ax[0,2].set_title('Benchmark Image', fontsize = 16)\n",
    "\n",
    "# Plot the mean images, LAFM images, and benchmark images for each cluster.\n",
    "for i in range(len(cyto_clusters)):\n",
    "    # Set the title for the cluster\n",
    "    ax[i,0].set_ylabel(f'Cluster {i}', fontsize = 16)\n",
    "\n",
    "    # Plot the mean image and its scalebar\n",
    "    cyto_clusters[i].plot_mean_image(ax = ax[i,0], cmap = Plotting.LAFMcmap, vmin = vmin, vmax = vmax)\n",
    "    Plotting.add_scalebar(10/cytoplasmic_stack.resolution, label = '1nm', ax = ax[i,0])\n",
    "\n",
    "    # Plot the LAFM image and its scalebar\n",
    "    cyto_clusters[i].plot_LAFM_image(ax = ax[i,1], cmap = Plotting.LAFMcmap, vmin = vmin, vmax = vmax)\n",
    "    Plotting.add_scalebar(30/cytoplasmic_stack.resolution, label = '1nm', size_vertical = 3/8, ax = ax[i,1])\n",
    "\n",
    "    # Plot the benchmark image and its scalebar\n",
    "    benchmark_cyto_clusters[i].plot_LAFM_image(ax = ax[i,2], cmap = Plotting.LAFMcmap, vmin = vmin, vmax = vmax)\n",
    "    Plotting.add_scalebar(60/cytoplasmic_stack.resolution, label = '1nm', size_vertical = 6/8, ax = ax[i,2])\n",
    "\n",
    "# Add the colorbars to the right of the images.\n",
    "cbar_ax = fig.add_axes([0.91, 0.11, 0.03, 0.77])\n",
    "Plotting.draw_colorbar_to_ax(vmin, vmax, Plotting.LAFMcmap,\n",
    "                             label = 'Height (Å)', cbar_ax = cbar_ax)\n",
    "\n",
    "plt.show()"
   ]
  },
  {
   "cell_type": "markdown",
   "metadata": {},
   "source": [
    "#### Calculate the SSIM Between the LAFM Images"
   ]
  },
  {
   "cell_type": "markdown",
   "metadata": {},
   "source": [
    "Finally, we evaluate the increase in image quality via LAFM by calculating the Structural Similarity Index Measure (SSIM) between the mean/LAFM image and the benchmark LAFM. "
   ]
  },
  {
   "cell_type": "code",
   "execution_count": null,
   "metadata": {},
   "outputs": [],
   "source": [
    "ssim_df = {\n",
    "    'Mean Image':[SSIM.registered_SSIM(cv2.resize(cyto_clusters[index].mean_image, (192,192)), benchmark_cyto_clusters[index].LAFM_image, sr = sr) for index in range(len(cyto_clusters))],\n",
    "    'LAFM Image':[SSIM.registered_SSIM(cv2.resize(cyto_clusters[index].LAFM_image, (192,192)), benchmark_cyto_clusters[index].LAFM_image, sr = sr) for index in range(len(cyto_clusters))]\n",
    "}\n",
    "ssim_df = pd.DataFrame(ssim_df)\n",
    "ssim_df.index = [f'Cluster {index}' for index in range(len(cyto_clusters))]\n",
    "display(ssim_df.round(2))"
   ]
  },
  {
   "cell_type": "markdown",
   "metadata": {},
   "source": [
    "### Periplasmic IREC"
   ]
  },
  {
   "cell_type": "markdown",
   "metadata": {},
   "source": [
    "Repeat the IREC algorithm for the periplasmic stack."
   ]
  },
  {
   "cell_type": "code",
   "execution_count": null,
   "metadata": {},
   "outputs": [],
   "source": [
    "periplasmic_stack.shuffle()\n",
    "\n",
    "peri_clusters = REC.IREC(periplasmic_stack,\n",
    "                         periplasmic_CAE,\n",
    "                         sr = sr,\n",
    "                         n_clusters = 2,\n",
    "                         k_neighbors = 7,\n",
    "                         max_iterations = 5)\n",
    "\n",
    "# Calculate the mean images for each cluster\n",
    "for cluster in peri_clusters:\n",
    "    cluster.calc_mean_image() \n",
    "    cluster.calc_LAFM_image(target_resolution = (96, 96), sigma = 2.25)"
   ]
  },
  {
   "cell_type": "markdown",
   "metadata": {},
   "source": [
    "#### Load and Process the Periplasmic Benchmark Stack"
   ]
  },
  {
   "cell_type": "code",
   "execution_count": null,
   "metadata": {},
   "outputs": [],
   "source": [
    "benchmark_periplasmic_stack = Stack.Stack.load_compressed_pickle(pickle_filepath = '../common/stacks/Example_AP-2-2.xz',\n",
    "                                                                 public_key_filepath = PUBLIC_KEY_FILEPATH)\n",
    "\n",
    "benchmark_peri_clusters = []\n",
    "for cluster in peri_clusters:\n",
    "    ref = cluster.indexes == cluster.get_metadata('registration_reference')\n",
    "    benchmark_images = benchmark_periplasmic_stack.images[cluster.indexes]\n",
    "    benchmark_ref = benchmark_images[ref][0]\n",
    "    registered_bechmark_images = REC.register_image_stack(benchmark_ref, benchmark_images, sr = sr)\n",
    "    bechmark_cluster = Stack.Stack(images = registered_bechmark_images, resolution = benchmark_periplasmic_stack.resolution, indexes = cluster.indexes)\n",
    "    bechmark_cluster.calc_LAFM_image(target_resolution = (192,192), sigma = 2.25)\n",
    "    benchmark_peri_clusters.append(bechmark_cluster)"
   ]
  },
  {
   "cell_type": "markdown",
   "metadata": {},
   "source": [
    "#### Display the Periplasmic Clustered LAFM Images"
   ]
  },
  {
   "cell_type": "code",
   "execution_count": null,
   "metadata": {},
   "outputs": [],
   "source": [
    "# Set the color range based on the maximum LAFM image value across all periplasmic clusters\n",
    "vmin = 0\n",
    "vmax = np.max([cluster.LAFM_image for cluster in peri_clusters])\n",
    "\n",
    "# Create the figure\n",
    "fig, ax = plt.subplots(len(peri_clusters), 3, figsize=(9, 3 *len(peri_clusters)))\n",
    "\n",
    "# Turn off tick marks\n",
    "for axis in ax.ravel():\n",
    "    axis.set_xticks([])\n",
    "    axis.set_yticks([])\n",
    "\n",
    "# Set axis labels\n",
    "ax[0, 0].set_title('Mean Image',      fontsize=16)\n",
    "ax[0, 1].set_title('LAFM Image',      fontsize=16)\n",
    "ax[0, 2].set_title('Benchmark Image', fontsize=16)\n",
    "\n",
    "for i in range(len(peri_clusters)):\n",
    "    # Set the title for the cluster\n",
    "    ax[i,0].set_ylabel(f'Cluster {i}', fontsize = 16)\n",
    "\n",
    "    # Plot the mean image and its scalebar\n",
    "    peri_clusters[i].plot_mean_image(ax = ax[i,0], cmap = Plotting.LAFMcmap, vmin = vmin, vmax = vmax)\n",
    "    Plotting.add_scalebar(10/periplasmic_stack.resolution, label = '1nm', ax = ax[i,0])\n",
    "\n",
    "    # Plot the LAFM image and its scalebar\n",
    "    peri_clusters[i].plot_LAFM_image(ax = ax[i,1], cmap = Plotting.LAFMcmap, vmin = vmin, vmax = vmax)\n",
    "    Plotting.add_scalebar(30/periplasmic_stack.resolution, label = '1nm', size_vertical = 3/8, ax = ax[i,1])\n",
    "\n",
    "    # Plot the benchmark image and its scalebar\n",
    "    benchmark_peri_clusters[i].plot_LAFM_image(ax = ax[i,2], cmap = Plotting.LAFMcmap, vmin = vmin, vmax = vmax)\n",
    "    Plotting.add_scalebar(60/periplasmic_stack.resolution, label = '1nm', size_vertical = 6/8, ax = ax[i,2])\n",
    "\n",
    "# Add the colorbar\n",
    "cbar_ax = fig.add_axes([0.91, 0.11, 0.03, 0.77])\n",
    "Plotting.draw_colorbar_to_ax(vmin, vmax, Plotting.LAFMcmap,\n",
    "                             label='Height (Å)', cbar_ax=cbar_ax)\n",
    "\n",
    "plt.show()"
   ]
  },
  {
   "cell_type": "markdown",
   "metadata": {},
   "source": [
    "#### Calculate the SSIM between the LAFM Images"
   ]
  },
  {
   "cell_type": "code",
   "execution_count": null,
   "metadata": {},
   "outputs": [],
   "source": [
    "ssim_df = {\n",
    "    'Mean Image':[SSIM.registered_SSIM(cv2.resize(peri_clusters[index].mean_image, (192,192), cv2.INTER_CUBIC), benchmark_peri_clusters[index].LAFM_image, sr = sr) for index in range(len(peri_clusters))],\n",
    "    'LAFM Image':[SSIM.registered_SSIM(cv2.resize(peri_clusters[index].LAFM_image, (192,192), cv2.INTER_CUBIC), benchmark_peri_clusters[index].LAFM_image, sr = sr) for index in range(len(peri_clusters))]\n",
    "}\n",
    "ssim_df = pd.DataFrame(ssim_df)\n",
    "ssim_df.index = [f'Cluster {index}' for index in range(len(peri_clusters))]\n",
    "\n",
    "display(ssim_df.round(2))"
   ]
  }
 ],
 "metadata": {
  "kernelspec": {
   "display_name": "AFMpy-GPU",
   "language": "python",
   "name": "python3"
  },
  "language_info": {
   "codemirror_mode": {
    "name": "ipython",
    "version": 3
   },
   "file_extension": ".py",
   "mimetype": "text/x-python",
   "name": "python",
   "nbconvert_exporter": "python",
   "pygments_lexer": "ipython3",
   "version": "3.12.2"
  }
 },
 "nbformat": 4,
 "nbformat_minor": 2
}
